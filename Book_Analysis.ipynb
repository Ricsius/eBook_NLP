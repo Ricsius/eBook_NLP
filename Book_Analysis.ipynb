{
 "cells": [
  {
   "cell_type": "markdown",
   "id": "a2589914-d0bb-445a-b484-2baaa064165f",
   "metadata": {},
   "source": [
    "# Load the book"
   ]
  },
  {
   "cell_type": "code",
   "execution_count": 1,
   "id": "7c6e1df3-eb12-44d4-85d6-15049c9263a1",
   "metadata": {},
   "outputs": [],
   "source": [
    "with open(\"miracle_in_the_andes.txt\", \"r\", encoding=\"utf-8\") as file:\n",
    "    book = file.read()"
   ]
  },
  {
   "cell_type": "code",
   "execution_count": 2,
   "id": "b9d1a0f0-e878-4530-bb4b-caa31ec7c41a",
   "metadata": {},
   "outputs": [
    {
     "data": {
      "text/plain": [
       "str"
      ]
     },
     "execution_count": 2,
     "metadata": {},
     "output_type": "execute_result"
    }
   ],
   "source": [
    "type(book)"
   ]
  },
  {
   "cell_type": "markdown",
   "id": "6411ca23-9890-45a5-88f4-e07ba2315763",
   "metadata": {},
   "source": [
    "# How many chapters?"
   ]
  },
  {
   "cell_type": "markdown",
   "id": "19fe4ca1-5a9b-4346-ab62-e88a53f95874",
   "metadata": {},
   "source": [
    "### With string methods (incorrect)"
   ]
  },
  {
   "cell_type": "code",
   "execution_count": 3,
   "id": "e6dda892-a2af-4d58-a434-3095c2aa8469",
   "metadata": {},
   "outputs": [
    {
     "data": {
      "text/plain": [
       "11"
      ]
     },
     "execution_count": 3,
     "metadata": {},
     "output_type": "execute_result"
    }
   ],
   "source": [
    "book.count(\"Chapter\")"
   ]
  },
  {
   "cell_type": "markdown",
   "id": "d80f6e2f-fc6b-4a3e-89e6-d0330160fb3d",
   "metadata": {},
   "source": [
    "### With regex"
   ]
  },
  {
   "cell_type": "code",
   "execution_count": 4,
   "id": "e301801a-ffdd-4abb-a721-13bf996895c1",
   "metadata": {},
   "outputs": [],
   "source": [
    "import re"
   ]
  },
  {
   "cell_type": "code",
   "execution_count": 5,
   "id": "187269b2-0dee-48b2-a5b3-bc002efc819c",
   "metadata": {},
   "outputs": [],
   "source": [
    "pattern = re.compile(\"Chapter [0-9]+\")"
   ]
  },
  {
   "cell_type": "code",
   "execution_count": 6,
   "id": "2647713c-2944-463d-997b-c7f357cff6e5",
   "metadata": {},
   "outputs": [
    {
     "data": {
      "text/plain": [
       "10"
      ]
     },
     "execution_count": 6,
     "metadata": {},
     "output_type": "execute_result"
    }
   ],
   "source": [
    "chapters = re.findall(pattern, book)\n",
    "len(chapters)"
   ]
  },
  {
   "cell_type": "markdown",
   "id": "ae950d74-9724-41e6-8f3c-650089f2c140",
   "metadata": {},
   "source": [
    "# Which are the sentences where \"love\" was used?"
   ]
  },
  {
   "cell_type": "code",
   "execution_count": 7,
   "id": "d46705db-1d29-41d0-9fbc-3360fae42575",
   "metadata": {},
   "outputs": [
    {
     "data": {
      "text/plain": [
       "67"
      ]
     },
     "execution_count": 7,
     "metadata": {},
     "output_type": "execute_result"
    }
   ],
   "source": [
    "pattern = re.compile(r\"[A-Z]{1}[^.]*[^a-zA-Z]+love[^a-zA-Z]+[^.]*\\.\")\n",
    "findings = re.findall(pattern, book)\n",
    "len(findings)"
   ]
  },
  {
   "cell_type": "markdown",
   "id": "1aec61e5-f377-40cf-817f-58ced2d0051e",
   "metadata": {},
   "source": [
    "# What are the most used words?"
   ]
  },
  {
   "cell_type": "code",
   "execution_count": 8,
   "id": "4cf5847e-4a24-4e6d-a4c5-79bb74abdfb0",
   "metadata": {},
   "outputs": [],
   "source": [
    "pattern = re.compile(\"[a-zA-z]+\")\n",
    "words = re.findall(pattern, book.lower())"
   ]
  },
  {
   "cell_type": "code",
   "execution_count": 9,
   "id": "c5f8668f-27ad-4515-a7ac-bdc93bbbdb5a",
   "metadata": {},
   "outputs": [
    {
     "data": {
      "text/plain": [
       "[(5346, 'the'), (2795, 'and'), (2729, 'i')]"
      ]
     },
     "execution_count": 9,
     "metadata": {},
     "output_type": "execute_result"
    }
   ],
   "source": [
    "occurrences = {}\n",
    "for word in words:\n",
    "    if word in occurrences.keys():\n",
    "        occurrences[word] += 1\n",
    "    else:\n",
    "        occurrences[word] = 1\n",
    "\n",
    "occurrence_list = [(value, key) for (key, value) in occurrences.items()]\n",
    "sorted(occurrence_list, reverse=True)[:3]"
   ]
  },
  {
   "cell_type": "markdown",
   "id": "2ffe235b-ef74-42d8-9fe5-08f63b557753",
   "metadata": {},
   "source": [
    "# The most used words (non-articles)"
   ]
  },
  {
   "cell_type": "code",
   "execution_count": 10,
   "id": "c18ba5d6-a469-4be8-9aa4-845ac74ba507",
   "metadata": {},
   "outputs": [
    {
     "data": {
      "text/plain": [
       "[(5346, 'the'), (2795, 'and'), (2729, 'i')]"
      ]
     },
     "execution_count": 10,
     "metadata": {},
     "output_type": "execute_result"
    }
   ],
   "source": [
    "occurrences = {}\n",
    "for word in words:\n",
    "    if word in occurrences.keys():\n",
    "        occurrences[word] += 1\n",
    "    else:\n",
    "        occurrences[word] = 1\n",
    "\n",
    "occurrence_list = [(value, key) for (key, value) in occurrences.items()]\n",
    "occurrence_list = sorted(occurrence_list, reverse=True)\n",
    "\n",
    "occurrence_list[:3]"
   ]
  },
  {
   "cell_type": "code",
   "execution_count": 11,
   "id": "d75544e1-3834-452a-808d-3f0c7322393e",
   "metadata": {},
   "outputs": [],
   "source": [
    "import nltk\n",
    "from nltk.corpus import stopwords\n",
    "\n",
    "#nltk.download('stopwords')\n",
    "\n",
    "english_stopwords = stopwords.words(\"english\")"
   ]
  },
  {
   "cell_type": "code",
   "execution_count": 13,
   "id": "87adf217-388e-49bb-9393-e8da2066f83e",
   "metadata": {},
   "outputs": [
    {
     "data": {
      "text/plain": [
       "[(575, 'would'), (519, 'us'), (292, 'said'), (284, 'roberto'), (252, 'could')]"
      ]
     },
     "execution_count": 13,
     "metadata": {},
     "output_type": "execute_result"
    }
   ],
   "source": [
    "filtered_words = []\n",
    "\n",
    "for count, word in occurrence_list:\n",
    "    if word not in english_stopwords:\n",
    "        filtered_words.append((count, word))\n",
    "\n",
    "filtered_words[:5]"
   ]
  },
  {
   "cell_type": "markdown",
   "id": "43379b6c-b691-4e2e-ae92-02b4f7d35243",
   "metadata": {},
   "source": [
    "# Sentiment analysis: What is the most positive and the most negative chapter?"
   ]
  },
  {
   "cell_type": "code",
   "execution_count": 27,
   "id": "54b9757f-ffd8-4c8a-a9a0-d3cada90361c",
   "metadata": {},
   "outputs": [],
   "source": [
    "from nltk.sentiment import SentimentIntensityAnalyzer\n",
    "\n",
    "#nltk.download('vader_lexicon')"
   ]
  },
  {
   "cell_type": "markdown",
   "id": "de9c9191-7076-4f08-b1ab-0b2295aafee2",
   "metadata": {},
   "source": [
    "### An example"
   ]
  },
  {
   "cell_type": "code",
   "execution_count": 28,
   "id": "f73cce33-7337-4df3-90fb-c81bb5e6fa24",
   "metadata": {},
   "outputs": [],
   "source": [
    "analyzer = SentimentIntensityAnalyzer()"
   ]
  },
  {
   "cell_type": "code",
   "execution_count": 29,
   "id": "f063a7e0-815c-4fd1-a00f-ec24b3dfbc1d",
   "metadata": {},
   "outputs": [],
   "source": [
    "scores = analyzer.polarity_scores(\"I love the trees outside.\")"
   ]
  },
  {
   "cell_type": "code",
   "execution_count": 30,
   "id": "08ccd33d-798b-4279-8616-9a60b0eaf132",
   "metadata": {},
   "outputs": [
    {
     "name": "stdout",
     "output_type": "stream",
     "text": [
      "It is a positive text\n"
     ]
    }
   ],
   "source": [
    "if scores[\"pos\"] > scores[\"neg\"]:\n",
    "    print(\"It is a positive text\")\n",
    "else:\n",
    "    print(\"It is a negative text\")"
   ]
  },
  {
   "cell_type": "code",
   "execution_count": 31,
   "id": "568412c5-3670-4277-9072-da5390071804",
   "metadata": {},
   "outputs": [
    {
     "data": {
      "text/plain": [
       "{'neg': 0.116, 'neu': 0.76, 'pos': 0.125, 'compound': 1.0}"
      ]
     },
     "execution_count": 31,
     "metadata": {},
     "output_type": "execute_result"
    }
   ],
   "source": [
    "analyzer.polarity_scores(book)"
   ]
  },
  {
   "cell_type": "markdown",
   "id": "642909cb-d63e-4299-97b0-5b2815bd76a8",
   "metadata": {},
   "source": [
    "### Chapters sentiment analysis"
   ]
  },
  {
   "cell_type": "code",
   "execution_count": 36,
   "id": "3ad74a52-712c-44ee-9390-ca9db6908bb1",
   "metadata": {},
   "outputs": [],
   "source": [
    "import re\n",
    "\n",
    "pattern = re.compile(\"Chapter [0-9]+\")\n",
    "chapters = re.split(pattern, book)\n",
    "chapters = chapters[1:]"
   ]
  },
  {
   "cell_type": "code",
   "execution_count": 40,
   "id": "b4d11c72-6be3-4bb3-8895-f7172274245f",
   "metadata": {},
   "outputs": [
    {
     "name": "stdout",
     "output_type": "stream",
     "text": [
      "1 {'neg': 0.061, 'neu': 0.779, 'pos': 0.16, 'compound': 1.0}\n",
      "2 {'neg': 0.12, 'neu': 0.726, 'pos': 0.154, 'compound': 0.9991}\n",
      "3 {'neg': 0.145, 'neu': 0.751, 'pos': 0.105, 'compound': -0.9999}\n",
      "4 {'neg': 0.141, 'neu': 0.721, 'pos': 0.138, 'compound': -0.9963}\n",
      "5 {'neg': 0.118, 'neu': 0.742, 'pos': 0.141, 'compound': 0.9997}\n",
      "6 {'neg': 0.124, 'neu': 0.761, 'pos': 0.115, 'compound': -0.9979}\n",
      "7 {'neg': 0.136, 'neu': 0.761, 'pos': 0.103, 'compound': -0.9999}\n",
      "8 {'neg': 0.12, 'neu': 0.786, 'pos': 0.094, 'compound': -0.9998}\n",
      "9 {'neg': 0.097, 'neu': 0.824, 'pos': 0.079, 'compound': -0.9996}\n",
      "10 {'neg': 0.086, 'neu': 0.733, 'pos': 0.181, 'compound': 1.0}\n"
     ]
    }
   ],
   "source": [
    "for nr, chapter in enumerate(chapters):\n",
    "    scores = analyzer.polarity_scores(chapter)\n",
    "    print(nr + 1, scores)"
   ]
  },
  {
   "cell_type": "code",
   "execution_count": null,
   "id": "2d3b044a-30ab-45e6-82fb-5c65c25b3cca",
   "metadata": {},
   "outputs": [],
   "source": []
  }
 ],
 "metadata": {
  "kernelspec": {
   "display_name": "Python 3 (ipykernel)",
   "language": "python",
   "name": "python3"
  },
  "language_info": {
   "codemirror_mode": {
    "name": "ipython",
    "version": 3
   },
   "file_extension": ".py",
   "mimetype": "text/x-python",
   "name": "python",
   "nbconvert_exporter": "python",
   "pygments_lexer": "ipython3",
   "version": "3.13.0"
  }
 },
 "nbformat": 4,
 "nbformat_minor": 5
}
